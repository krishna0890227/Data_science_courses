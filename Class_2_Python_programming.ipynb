{
 "cells": [
  {
   "cell_type": "markdown",
   "id": "7c296f81",
   "metadata": {},
   "source": [
    "# Library Installation "
   ]
  },
  {
   "cell_type": "markdown",
   "id": "5c2be2f4",
   "metadata": {},
   "source": [
    "**Libray Installation**"
   ]
  },
  {
   "cell_type": "markdown",
   "id": "9851e7f5",
   "metadata": {},
   "source": [
    "1. Numpy \n",
    "2. Pandas\n",
    "3. Matplotlib"
   ]
  },
  {
   "cell_type": "markdown",
   "id": "922768ce",
   "metadata": {},
   "source": [
    "**Popular Libraries for Machine learning Study**\n",
    "* **Numpy** : Numeric Computation\n",
    "* **Pandas** : Tabular dataset computation\n",
    "* **Matplotlib** : Data Visualization \n",
    "* **sklearn** : preprocessing and Machine learning Algorithms\n",
    "* **keras** : Deep learning applications\n",
    "* **datetime** : Converting string date to Python datetime"
   ]
  },
  {
   "cell_type": "markdown",
   "id": "1e714d24",
   "metadata": {},
   "source": [
    "### Installation Methodology"
   ]
  },
  {
   "cell_type": "code",
   "execution_count": null,
   "id": "ef118c9c",
   "metadata": {},
   "outputs": [],
   "source": [
    "!pip install numpy\n",
    "!pip install pandas\n",
    "!pip install matplotlib\n",
    "!pip install sklearn\n",
    "!pip install keras\n",
    "!pip install datetime"
   ]
  },
  {
   "cell_type": "code",
   "execution_count": null,
   "id": "eba2f059",
   "metadata": {},
   "outputs": [],
   "source": []
  },
  {
   "cell_type": "markdown",
   "id": "0cb76149",
   "metadata": {},
   "source": [
    "### Helpful library\n",
    " StakOverFlow website\n",
    " https://stackoverflow.com/"
   ]
  },
  {
   "cell_type": "markdown",
   "id": "59ada52b",
   "metadata": {},
   "source": [
    "## Python List, Tuple and Dictionary Exercise"
   ]
  },
  {
   "cell_type": "markdown",
   "id": "cbeede97",
   "metadata": {},
   "source": [
    "### List: Introduction"
   ]
  },
  {
   "cell_type": "code",
   "execution_count": 2,
   "id": "86317822",
   "metadata": {},
   "outputs": [
    {
     "name": "stdout",
     "output_type": "stream",
     "text": [
      "[1, 2, 4, 8, 9]\n"
     ]
    }
   ],
   "source": [
    "A=[1, 2, 4, 8, 9]\n",
    "print(A)"
   ]
  },
  {
   "cell_type": "markdown",
   "id": "4ee04312",
   "metadata": {},
   "source": [
    "**Note :** indexing of **A** = 0, 1, 2, 3, 4"
   ]
  },
  {
   "cell_type": "code",
   "execution_count": 5,
   "id": "e8512655",
   "metadata": {},
   "outputs": [
    {
     "data": {
      "text/plain": [
       "5"
      ]
     },
     "execution_count": 5,
     "metadata": {},
     "output_type": "execute_result"
    }
   ],
   "source": [
    "len(A)"
   ]
  },
  {
   "cell_type": "markdown",
   "id": "14f89e02",
   "metadata": {},
   "source": [
    "**Slicing: ** "
   ]
  },
  {
   "cell_type": "code",
   "execution_count": 6,
   "id": "52017413",
   "metadata": {},
   "outputs": [
    {
     "data": {
      "text/plain": [
       "8"
      ]
     },
     "execution_count": 6,
     "metadata": {},
     "output_type": "execute_result"
    }
   ],
   "source": [
    "A[3]"
   ]
  },
  {
   "cell_type": "code",
   "execution_count": 7,
   "id": "fe1ada2f",
   "metadata": {},
   "outputs": [],
   "source": [
    "A=[4, 6, 9, [3, 5], 5]"
   ]
  },
  {
   "cell_type": "code",
   "execution_count": 19,
   "id": "d047fac2",
   "metadata": {},
   "outputs": [
    {
     "name": "stdout",
     "output_type": "stream",
     "text": [
      "[3, 5]\n"
     ]
    }
   ],
   "source": [
    "print(A[3])"
   ]
  },
  {
   "cell_type": "code",
   "execution_count": 10,
   "id": "d1a301ad",
   "metadata": {},
   "outputs": [
    {
     "name": "stdout",
     "output_type": "stream",
     "text": [
      "[4, 6, 9, 4, 5]\n"
     ]
    },
    {
     "data": {
      "image/png": "[encoded data removed]",
      "text/plain": [
       "<Figure size 640x480 with 1 Axes>"
      ]
     },
     "metadata": {},
     "output_type": "display_data"
    }
   ],
   "source": [
    "A[3]=4\n",
    "print(A)\n",
    "import matplotlib.pyplot as plt\n",
    "plt.plot(A)\n",
    "plt.show()"
   ]
  },
  {
   "cell_type": "code",
   "execution_count": 21,
   "id": "79a1e6e9",
   "metadata": {},
   "outputs": [
    {
     "data": {
      "text/plain": [
       "[4, 6, 9, [3, 5], 5, [20, 40]]"
      ]
     },
     "execution_count": 21,
     "metadata": {},
     "output_type": "execute_result"
    }
   ],
   "source": [
    "C=[20, 40]\n",
    "A.append(C)\n",
    "A"
   ]
  },
  {
   "cell_type": "markdown",
   "id": "7aee8736",
   "metadata": {},
   "source": [
    "**Note :** Lists are mutable. "
   ]
  },
  {
   "cell_type": "code",
   "execution_count": 12,
   "id": "bc7c6a3f",
   "metadata": {},
   "outputs": [],
   "source": [
    "B=(1, 3, 4, (5, 6), 9)"
   ]
  },
  {
   "cell_type": "code",
   "execution_count": 13,
   "id": "1a2e25a0",
   "metadata": {},
   "outputs": [
    {
     "ename": "AttributeError",
     "evalue": "'tuple' object has no attribute 'append'",
     "output_type": "error",
     "traceback": [
      "\u001b[1;31m---------------------------------------------------------------------------\u001b[0m",
      "\u001b[1;31mAttributeError\u001b[0m                            Traceback (most recent call last)",
      "Cell \u001b[1;32mIn[13], line 2\u001b[0m\n\u001b[0;32m      1\u001b[0m c\u001b[38;5;241m=\u001b[39m(\u001b[38;5;241m4\u001b[39m, \u001b[38;5;241m5\u001b[39m)\n\u001b[1;32m----> 2\u001b[0m \u001b[43mB\u001b[49m\u001b[38;5;241;43m.\u001b[39;49m\u001b[43mappend\u001b[49m(c)\n",
      "\u001b[1;31mAttributeError\u001b[0m: 'tuple' object has no attribute 'append'"
     ]
    }
   ],
   "source": [
    "c=(4, 5)\n",
    "B.append(c)"
   ]
  },
  {
   "cell_type": "markdown",
   "id": "ca561116",
   "metadata": {},
   "source": [
    "**Note:** Remeber indexing of B"
   ]
  },
  {
   "cell_type": "code",
   "execution_count": 20,
   "id": "811524ee",
   "metadata": {},
   "outputs": [
    {
     "name": "stdout",
     "output_type": "stream",
     "text": [
      "(5, 6)\n"
     ]
    }
   ],
   "source": [
    "print(B[3])"
   ]
  },
  {
   "cell_type": "code",
   "execution_count": 14,
   "id": "d2b68cae",
   "metadata": {},
   "outputs": [
    {
     "name": "stdout",
     "output_type": "stream",
     "text": [
      "(1, 3, 4, (5, 6), 9, 1, 3)\n"
     ]
    }
   ],
   "source": [
    "C=(1,3)\n",
    "#B.append(C)\n",
    "B=B + C\n",
    "print(B)"
   ]
  },
  {
   "cell_type": "markdown",
   "id": "46da4b97",
   "metadata": {},
   "source": [
    "**Try Append Method**"
   ]
  },
  {
   "cell_type": "markdown",
   "id": "908fa35c",
   "metadata": {},
   "source": [
    "Double click **here ** for the solution\n",
    "<!--\n",
    "C=(1,3)\n",
    "#B.append(C)\n",
    "B=B + C\n",
    "print(B)\n",
    "-->"
   ]
  },
  {
   "cell_type": "code",
   "execution_count": 27,
   "id": "866a795a",
   "metadata": {},
   "outputs": [
    {
     "ename": "TypeError",
     "evalue": "'tuple' object does not support item assignment",
     "output_type": "error",
     "traceback": [
      "\u001b[1;31m---------------------------------------------------------------------------\u001b[0m",
      "\u001b[1;31mTypeError\u001b[0m                                 Traceback (most recent call last)",
      "Cell \u001b[1;32mIn[27], line 1\u001b[0m\n\u001b[1;32m----> 1\u001b[0m B[\u001b[38;5;241m1\u001b[39m]\u001b[38;5;241m=\u001b[39m\u001b[38;5;241m5\u001b[39m\n\u001b[0;32m      2\u001b[0m B\n",
      "\u001b[1;31mTypeError\u001b[0m: 'tuple' object does not support item assignment"
     ]
    }
   ],
   "source": [
    "B[1]=5\n",
    "B"
   ]
  },
  {
   "cell_type": "markdown",
   "id": "14b8107a",
   "metadata": {},
   "source": [
    "**Note:** Tuple are immutable."
   ]
  },
  {
   "cell_type": "markdown",
   "id": "013a06e9",
   "metadata": {},
   "source": [
    "### Dictionary Example"
   ]
  },
  {
   "cell_type": "markdown",
   "id": "63aeca29",
   "metadata": {},
   "source": [
    "**Dictionary** object has **Keys** and **Values**"
   ]
  },
  {
   "cell_type": "code",
   "execution_count": 16,
   "id": "e598d5c5",
   "metadata": {},
   "outputs": [],
   "source": [
    "MyCar = {\n",
    "  \"brand\": \"Ford\",\n",
    "  \"model\": \"Mustang\",\n",
    "  \"year\": [1964, 1967]\n",
    "}"
   ]
  },
  {
   "cell_type": "code",
   "execution_count": 17,
   "id": "defcbc70",
   "metadata": {},
   "outputs": [
    {
     "name": "stdout",
     "output_type": "stream",
     "text": [
      "dict_keys(['brand', 'model', 'year'])\n",
      "dict_values(['Ford', 'Mustang', [1964, 1967]])\n"
     ]
    }
   ],
   "source": [
    "print(MyCar.keys())\n",
    "print(MyCar.values())"
   ]
  },
  {
   "cell_type": "markdown",
   "id": "8ce7e346",
   "metadata": {},
   "source": [
    "**Ex. 1 :** Try Duplicate Keys"
   ]
  },
  {
   "cell_type": "markdown",
   "id": "d92e8eff",
   "metadata": {},
   "source": [
    "Double click **here** for the solution.\n",
    "<!-- \n",
    "MyCar = {\n",
    "  \"brand\": \"Ford\",\n",
    "  \"brand\" : \"TATA\"\n",
    "  \"model\": \"Mustang\",\n",
    "  \"year\": 1964\n",
    "}\n",
    "-->"
   ]
  },
  {
   "cell_type": "markdown",
   "id": "7308f898",
   "metadata": {},
   "source": [
    "**Ex.2 :** Try with 1D array values "
   ]
  },
  {
   "cell_type": "markdown",
   "id": "44e1adf9",
   "metadata": {},
   "source": [
    "Double click **here** for the solution.\n",
    "<!-- \n",
    "\n",
    "MyCar = {\n",
    "  \"brand\": \"Ford\",\n",
    "  \"model\": \"Mustang\",\n",
    "  \"year\": [1964, 1965, 1967, 1968]\n",
    "}\n",
    "print(MyCar[\"year\"])\n",
    "-->"
   ]
  },
  {
   "cell_type": "markdown",
   "id": "45102a0f",
   "metadata": {},
   "source": [
    "### Datetime Converstion "
   ]
  },
  {
   "cell_type": "code",
   "execution_count": 45,
   "id": "a1d22cdf",
   "metadata": {},
   "outputs": [
    {
     "name": "stdout",
     "output_type": "stream",
     "text": [
      "2024-08-22 02:33:38.942848\n"
     ]
    }
   ],
   "source": [
    "from datetime import datetime\n",
    "current_date=datetime.now()\n",
    "print(current_date)"
   ]
  },
  {
   "cell_type": "markdown",
   "id": "b1e7298d",
   "metadata": {},
   "source": [
    "The datetime output is: \n",
    "* year\n",
    "* month\n",
    "* day\n",
    "* hour\n",
    "* minute\n",
    "* second\n",
    "* microsecond"
   ]
  },
  {
   "cell_type": "markdown",
   "id": "6e07f911",
   "metadata": {},
   "source": [
    "### Create Date and Time"
   ]
  },
  {
   "cell_type": "code",
   "execution_count": 48,
   "id": "f6eb1858",
   "metadata": {},
   "outputs": [
    {
     "name": "stdout",
     "output_type": "stream",
     "text": [
      "2024-05-17 00:00:00\n"
     ]
    }
   ],
   "source": [
    "x = datetime(2024, 5, 17)\n",
    "print(x)"
   ]
  },
  {
   "cell_type": "markdown",
   "id": "558e81e8",
   "metadata": {},
   "source": [
    "**Convert string to datetime**"
   ]
  },
  {
   "cell_type": "code",
   "execution_count": 49,
   "id": "a8228d18",
   "metadata": {},
   "outputs": [
    {
     "name": "stdout",
     "output_type": "stream",
     "text": [
      "<class 'datetime.datetime'>\n",
      "2022-09-19 13:55:26\n"
     ]
    }
   ],
   "source": [
    "from datetime import datetime\n",
    "\n",
    "datetime_str = '09/19/22 13:55:26'\n",
    "\n",
    "datetime_object = datetime.strptime(datetime_str, '%m/%d/%y %H:%M:%S')\n",
    "\n",
    "print(type(datetime_object))\n",
    "print(datetime_object)  # printed in default format"
   ]
  },
  {
   "cell_type": "markdown",
   "id": "e97605d7",
   "metadata": {},
   "source": [
    "**Ex. 1** Generate Dates from 1 January 2024"
   ]
  },
  {
   "cell_type": "markdown",
   "id": "a25f6097",
   "metadata": {},
   "source": [
    "Double click **here** for the solution.\n",
    "<!--\n",
    "import datetime\n",
    "\n",
    "a = datetime.datetime.today()\n",
    "numdays = 100\n",
    "dateList = []\n",
    "for x in range (0, numdays):\n",
    "    dateList.append(a - datetime.timedelta(days = x))\n",
    "print dateList\n",
    "-->"
   ]
  },
  {
   "cell_type": "markdown",
   "id": "9294837f",
   "metadata": {},
   "source": [
    "## Python Conditions and If statements"
   ]
  },
  {
   "cell_type": "markdown",
   "id": "5bb45f86",
   "metadata": {},
   "source": [
    "Six different conditions: \n",
    "* Equals: a == b\n",
    "* Not Equals: a != b\n",
    "* Less than: a < b\n",
    "* Less than or equal to: a <= b\n",
    "* Greater than: a > b\n",
    "* Greater than or equal to: a >= b"
   ]
  },
  {
   "cell_type": "code",
   "execution_count": 22,
   "id": "e1abe5c1",
   "metadata": {},
   "outputs": [
    {
     "name": "stdout",
     "output_type": "stream",
     "text": [
      "a is equal to b.\n",
      "20\n"
     ]
    }
   ],
   "source": [
    "a= 10\n",
    "b= 10\n",
    "\n",
    "if a==b:\n",
    "    print(\"a is equal to b.\")\n",
    "    c=a+b\n",
    "    print(c)\n",
    "elif a<b:\n",
    "    print(\"a is less than b\")\n",
    "elif a>b:\n",
    "    print(\"a is greather than b\")\n",
    "else:\n",
    "     print(\"Input is not matched.\")"
   ]
  },
  {
   "cell_type": "markdown",
   "id": "06375660",
   "metadata": {},
   "source": [
    " **Note:** \n",
    " 1. Try with different a and b values\n",
    " 2. Check white space (indentation)"
   ]
  },
  {
   "cell_type": "markdown",
   "id": "8764cce8",
   "metadata": {},
   "source": [
    "# Python Loops"
   ]
  },
  {
   "cell_type": "markdown",
   "id": "0d243562",
   "metadata": {},
   "source": [
    "# Python has two primitive loop commands:\n",
    "\n",
    "1. while loops\n",
    "2. for loops"
   ]
  },
  {
   "cell_type": "code",
   "execution_count": 55,
   "id": "c4ff8d4a",
   "metadata": {},
   "outputs": [
    {
     "name": "stdout",
     "output_type": "stream",
     "text": [
      "0\n",
      "1\n",
      "2\n",
      "3\n",
      "4\n",
      "5\n"
     ]
    }
   ],
   "source": [
    "i=0 \n",
    "while i<6: \n",
    "    print(i)\n",
    "    i=i+1"
   ]
  },
  {
   "cell_type": "code",
   "execution_count": 56,
   "id": "96de4e0b",
   "metadata": {},
   "outputs": [
    {
     "name": "stdout",
     "output_type": "stream",
     "text": [
      "0\n",
      "1\n",
      "2\n",
      "3\n",
      "4\n",
      "5\n"
     ]
    }
   ],
   "source": [
    "for i in range(6):\n",
    "    print(i)"
   ]
  },
  {
   "cell_type": "markdown",
   "id": "343cf3af",
   "metadata": {},
   "source": [
    "### The break statement"
   ]
  },
  {
   "cell_type": "code",
   "execution_count": 57,
   "id": "468ab127",
   "metadata": {},
   "outputs": [
    {
     "name": "stdout",
     "output_type": "stream",
     "text": [
      "1\n",
      "2\n",
      "3\n"
     ]
    }
   ],
   "source": [
    "i = 1\n",
    "while i < 6:\n",
    "  print(i)\n",
    "  if i == 3:\n",
    "    break\n",
    "  i += 1"
   ]
  },
  {
   "cell_type": "markdown",
   "id": "8941c228",
   "metadata": {},
   "source": [
    "**Note :** With the break statement we can stop the loop even if the while condition is true:"
   ]
  },
  {
   "cell_type": "markdown",
   "id": "918d0c22",
   "metadata": {},
   "source": [
    "### Continue and else statement"
   ]
  },
  {
   "cell_type": "markdown",
   "id": "9bb64a77",
   "metadata": {},
   "source": [
    "Double click **here** for the solution.\n",
    "<!--\n",
    "i = 0\n",
    "while i < 6:\n",
    "  i += 1\n",
    "  if i == 3:\n",
    "    continue\n",
    "  print(i)\n",
    "==============================\n",
    "i = 1\n",
    "while i < 6:\n",
    "  print(i)\n",
    "  i += 1\n",
    "else:\n",
    "  print(\"i is no longer less than 6\")\n",
    "\n",
    "-->"
   ]
  },
  {
   "cell_type": "markdown",
   "id": "93f1ae93",
   "metadata": {},
   "source": [
    "# For loop"
   ]
  },
  {
   "cell_type": "markdown",
   "id": "6e90090d",
   "metadata": {},
   "source": [
    "This is less like the for keyword in other programming languages, and works more like an iterator method as found in other object-orientated programming languages.\n",
    "\n",
    "With the for loop we can execute a set of statements, once for each item in a list, tuple, set etc"
   ]
  },
  {
   "cell_type": "code",
   "execution_count": 58,
   "id": "5693a197",
   "metadata": {},
   "outputs": [
    {
     "name": "stdout",
     "output_type": "stream",
     "text": [
      "apple\n",
      "banana\n",
      "cherry\n"
     ]
    }
   ],
   "source": [
    "fruits = [\"apple\", \"banana\", \"cherry\"]\n",
    "for x in fruits:\n",
    "  print(x)"
   ]
  },
  {
   "cell_type": "markdown",
   "id": "7e7162df",
   "metadata": {},
   "source": [
    "Try other examples: "
   ]
  },
  {
   "cell_type": "markdown",
   "id": "38ae5967",
   "metadata": {},
   "source": [
    "## Creating a Function"
   ]
  },
  {
   "cell_type": "markdown",
   "id": "cf5ef0b6",
   "metadata": {},
   "source": [
    "Try Examples"
   ]
  }
 ],
 "metadata": {
  "kernelspec": {
   "display_name": "Python 3 (ipykernel)",
   "language": "python",
   "name": "python3"
  },
  "language_info": {
   "codemirror_mode": {
    "name": "ipython",
    "version": 3
   },
   "file_extension": ".py",
   "mimetype": "text/x-python",
   "name": "python",
   "nbconvert_exporter": "python",
   "pygments_lexer": "ipython3",
   "version": "3.10.9"
  }
 },
 "nbformat": 4,
 "nbformat_minor": 5
}
