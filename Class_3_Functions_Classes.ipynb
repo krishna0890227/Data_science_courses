{
 "cells": [
  {
   "cell_type": "markdown",
   "id": "fcbe0325",
   "metadata": {},
   "source": [
    "# What is Python Functions ?"
   ]
  },
  {
   "cell_type": "markdown",
   "id": "b737bd20",
   "metadata": {},
   "source": [
    "A function is a block of code which only runs when it is called.\n",
    "\n",
    "You can pass data, known as parameters, into a function.\n",
    "\n",
    "A function can return data as a result."
   ]
  },
  {
   "cell_type": "code",
   "execution_count": 4,
   "id": "02cc1a5e",
   "metadata": {},
   "outputs": [],
   "source": [
    "def AG_Class():\n",
    "    print(\"Hello AG Class Year IV Semseter I\")"
   ]
  },
  {
   "cell_type": "markdown",
   "id": "19665b8f",
   "metadata": {},
   "source": [
    "### Calling a function"
   ]
  },
  {
   "cell_type": "markdown",
   "id": "c4bd22fe",
   "metadata": {},
   "source": [
    "To call a function, use the function name followed by parenthesis."
   ]
  },
  {
   "cell_type": "code",
   "execution_count": 5,
   "id": "fad91876",
   "metadata": {},
   "outputs": [
    {
     "name": "stdout",
     "output_type": "stream",
     "text": [
      "Hello AG Class Year IV Semseter I\n"
     ]
    }
   ],
   "source": [
    "AG_Class()"
   ]
  },
  {
   "cell_type": "markdown",
   "id": "bb9b2a40",
   "metadata": {},
   "source": [
    "### Arguments"
   ]
  },
  {
   "cell_type": "markdown",
   "id": "9cd612c7",
   "metadata": {},
   "source": [
    "Information can be passed into functions as arguments. </br> </br>\n",
    "Arguments are specified after the function name, inside the parentheses. You can add as many arguments as you want, just separate them with a comma."
   ]
  },
  {
   "cell_type": "code",
   "execution_count": 11,
   "id": "8e375791",
   "metadata": {},
   "outputs": [],
   "source": [
    "def AG_Class(x, y, z):\n",
    "    print(x + y + z)\n",
    "    \n",
    "x=\"Kathmandu University \"\n",
    "y=\"Agriculture Department \"\n",
    "z=\"Year III Semster I\""
   ]
  },
  {
   "cell_type": "markdown",
   "id": "15ab5c6a",
   "metadata": {},
   "source": [
    "Double click **here** for the solution.\n",
    "\n",
    "<!--\n",
    "AG_Class(x, y, z)\n",
    "\n",
    "-->\n"
   ]
  },
  {
   "cell_type": "markdown",
   "id": "b2e674b9",
   "metadata": {},
   "source": [
    "### Arbitary Arguments, *args"
   ]
  },
  {
   "cell_type": "code",
   "execution_count": 13,
   "id": "1071b6c0",
   "metadata": {},
   "outputs": [
    {
     "name": "stdout",
     "output_type": "stream",
     "text": [
      "Shyam\n",
      "3\n"
     ]
    }
   ],
   "source": [
    "def AG_Students(*name):\n",
    "    print(name[2])\n",
    "    print(len(name))\n",
    "   \n",
    "AG_Students(\"Hari\", \"Devi\", \"Shyam\")\n"
   ]
  },
  {
   "cell_type": "markdown",
   "id": "96a02e97",
   "metadata": {},
   "source": [
    " **Ex.1.** Check for five different student names and passed as a tuples. "
   ]
  },
  {
   "cell_type": "markdown",
   "id": "9c834bd9",
   "metadata": {},
   "source": [
    "Double click **here** for solution\n",
    "<!-- \n",
    "AG_Students(\"Hari\", \"Devi\", \"Shyam\", \"Krishna\", \"Kavya\")\n",
    "\n",
    "-- >"
   ]
  },
  {
   "cell_type": "markdown",
   "id": "3b465583",
   "metadata": {},
   "source": [
    "## Arbitary Keyword Arguments, **kwargs"
   ]
  },
  {
   "cell_type": "markdown",
   "id": "c91749b6",
   "metadata": {},
   "source": [
    "If you do not know how many keyword arguments that will be passed into your function, add two asterisk: ** before the parameter name in the function definition."
   ]
  },
  {
   "cell_type": "code",
   "execution_count": 17,
   "id": "d4183c44",
   "metadata": {},
   "outputs": [
    {
     "name": "stdout",
     "output_type": "stream",
     "text": [
      " The last name of the student is: Sapkota\n"
     ]
    }
   ],
   "source": [
    "def AG_Class(**student):\n",
    "    print(\" The last name of the student is: \" + student[\"lastname\"])\n",
    "    \n",
    "AG_Class(firstname=\"Hari\", lastname=\"Sapkota\")"
   ]
  },
  {
   "cell_type": "markdown",
   "id": "701744f4",
   "metadata": {},
   "source": [
    "###  Default Parameter Value"
   ]
  },
  {
   "cell_type": "markdown",
   "id": "dc003fa0",
   "metadata": {},
   "source": [
    "If we call the function without argument, it uses the default value:"
   ]
  },
  {
   "cell_type": "code",
   "execution_count": 18,
   "id": "63aa5395",
   "metadata": {},
   "outputs": [
    {
     "name": "stdout",
     "output_type": "stream",
     "text": [
      "I am from Sweden\n",
      "I am from India\n",
      "I am from Norway\n",
      "I am from Brazil\n"
     ]
    }
   ],
   "source": [
    "def my_function(country = \"Norway\"):\n",
    "  print(\"I am from \" + country)\n",
    "\n",
    "my_function(\"Sweden\")\n",
    "my_function(\"India\")\n",
    "my_function()\n",
    "my_function(\"Brazil\")"
   ]
  },
  {
   "cell_type": "markdown",
   "id": "654360d0",
   "metadata": {},
   "source": [
    "### Passing  a List as an Argument"
   ]
  },
  {
   "cell_type": "markdown",
   "id": "7379663f",
   "metadata": {},
   "source": [
    "You can send any data types of argument to a function (string, number, list, dictionary etc.), and it will be treated as the same data type inside the function."
   ]
  },
  {
   "cell_type": "code",
   "execution_count": 19,
   "id": "6c33f5d1",
   "metadata": {},
   "outputs": [
    {
     "name": "stdout",
     "output_type": "stream",
     "text": [
      "apple\n",
      "banana\n",
      "cherry\n"
     ]
    }
   ],
   "source": [
    "def my_function(food):\n",
    "  for x in food:\n",
    "    print(x)\n",
    "\n",
    "fruits = [\"apple\", \"banana\", \"cherry\"]\n",
    "\n",
    "my_function(fruits)"
   ]
  },
  {
   "cell_type": "markdown",
   "id": "613edf1c",
   "metadata": {},
   "source": [
    "### Recursion Function"
   ]
  },
  {
   "cell_type": "markdown",
   "id": "fb2f1903",
   "metadata": {},
   "source": [
    "Python also accepts function recursion, which means a defined function can call itself.\n",
    "\n",
    "Recursion is a common mathematical and programming concept. It means that a function calls itself. This has the benefit of meaning that you can loop through data to reach a result."
   ]
  },
  {
   "cell_type": "code",
   "execution_count": 20,
   "id": "d29fefd3",
   "metadata": {},
   "outputs": [
    {
     "name": "stdout",
     "output_type": "stream",
     "text": [
      "\n",
      "\n",
      "Recursion Example Results\n",
      "1\n",
      "3\n",
      "6\n",
      "10\n",
      "15\n",
      "21\n"
     ]
    },
    {
     "data": {
      "text/plain": [
       "21"
      ]
     },
     "execution_count": 20,
     "metadata": {},
     "output_type": "execute_result"
    }
   ],
   "source": [
    "def tri_recursion(k):\n",
    "  if(k > 0):\n",
    "    result = k + tri_recursion(k - 1)\n",
    "    print(result)\n",
    "  else:\n",
    "    result = 0\n",
    "  return result\n",
    "\n",
    "print(\"\\n\\nRecursion Example Results\")\n",
    "tri_recursion(6)"
   ]
  },
  {
   "cell_type": "markdown",
   "id": "9f912578",
   "metadata": {},
   "source": [
    "### Python Lambda"
   ]
  },
  {
   "cell_type": "markdown",
   "id": "7e7041a2",
   "metadata": {},
   "source": [
    "A lambda function is a small anonymous function.\n",
    "\n",
    "A lambda function can take any number of arguments, but can only have one expression."
   ]
  },
  {
   "cell_type": "code",
   "execution_count": 22,
   "id": "28f943b4",
   "metadata": {},
   "outputs": [
    {
     "name": "stdout",
     "output_type": "stream",
     "text": [
      "15\n"
     ]
    }
   ],
   "source": [
    "x = lambda a : a + 10\n",
    "print(x(5)) "
   ]
  },
  {
   "cell_type": "markdown",
   "id": "5a526222",
   "metadata": {},
   "source": [
    "**Lambda function**"
   ]
  },
  {
   "cell_type": "markdown",
   "id": "16ebefe8",
   "metadata": {},
   "source": [
    "The power of lambda is better shown when you use them as an anonymous function inside another function."
   ]
  },
  {
   "cell_type": "code",
   "execution_count": 23,
   "id": "b24fa4c6",
   "metadata": {},
   "outputs": [
    {
     "name": "stdout",
     "output_type": "stream",
     "text": [
      "22\n"
     ]
    }
   ],
   "source": [
    "def myfunc(n):\n",
    "  return lambda a : a * n\n",
    "\n",
    "mydoubler = myfunc(2)\n",
    "\n",
    "print(mydoubler(11))"
   ]
  },
  {
   "cell_type": "markdown",
   "id": "669c86fe",
   "metadata": {},
   "source": [
    "# Python Class and Objects"
   ]
  },
  {
   "cell_type": "markdown",
   "id": "23791e66",
   "metadata": {},
   "source": [
    "Python is an object oriented programming language.\n",
    "\n",
    "Almost everything in Python is an object, with its properties and methods.\n",
    "\n",
    "A Class is like an object constructor, or a \"blueprint\" for creating objects."
   ]
  },
  {
   "cell_type": "code",
   "execution_count": 26,
   "id": "447a0388",
   "metadata": {},
   "outputs": [],
   "source": [
    "class AGClass:\n",
    "  x = 5"
   ]
  },
  {
   "cell_type": "markdown",
   "id": "79fb7cd1",
   "metadata": {},
   "source": [
    "### Create Object"
   ]
  },
  {
   "cell_type": "code",
   "execution_count": 27,
   "id": "48240440",
   "metadata": {},
   "outputs": [
    {
     "name": "stdout",
     "output_type": "stream",
     "text": [
      "5\n"
     ]
    }
   ],
   "source": [
    "p1 = AGClass()\n",
    "\n",
    "print(p1.x) "
   ]
  },
  {
   "cell_type": "markdown",
   "id": "65b8c6a4",
   "metadata": {},
   "source": [
    "### The __init__() Function"
   ]
  },
  {
   "cell_type": "markdown",
   "id": "82261613",
   "metadata": {},
   "source": [
    "All classes have a function called __init__(), which is always executed when the class is being initiated.\n",
    "\n",
    "Use the __init__() function to assign values to object properties, or other operations that are necessary to do when the object is being created:"
   ]
  },
  {
   "cell_type": "code",
   "execution_count": 29,
   "id": "5fcce0aa",
   "metadata": {},
   "outputs": [
    {
     "name": "stdout",
     "output_type": "stream",
     "text": [
      "John\n",
      "36\n"
     ]
    }
   ],
   "source": [
    "class Person:\n",
    "  def __init__(self, name, age):\n",
    "    self.name = name\n",
    "    self.age = age\n",
    "\n",
    "p1 = Person(\"John\", 36)\n",
    "\n",
    "print(p1.name)\n",
    "print(p1.age) "
   ]
  },
  {
   "cell_type": "markdown",
   "id": "b3655890",
   "metadata": {},
   "source": [
    "### Object Methods"
   ]
  },
  {
   "cell_type": "markdown",
   "id": "e8f76bc1",
   "metadata": {},
   "source": [
    "Objects can also contain methods. Methods in objects are functions that belong to the object."
   ]
  },
  {
   "cell_type": "code",
   "execution_count": 30,
   "id": "c84b38ae",
   "metadata": {},
   "outputs": [
    {
     "name": "stdout",
     "output_type": "stream",
     "text": [
      "Hello my name is John\n"
     ]
    }
   ],
   "source": [
    "class Person:\n",
    "  def __init__(self, name, age):\n",
    "    self.name = name\n",
    "    self.age = age\n",
    "\n",
    "  def myfunc(self):\n",
    "    print(\"Hello my name is \" + self.name)\n",
    "\n",
    "p1 = Person(\"John\", 36)\n",
    "p1.myfunc() "
   ]
  },
  {
   "cell_type": "markdown",
   "id": "52e718a8",
   "metadata": {},
   "source": [
    "The self parameter is a reference to the current instance of the class, and is used to access variables that belongs to the class."
   ]
  },
  {
   "cell_type": "markdown",
   "id": "bb970acf",
   "metadata": {},
   "source": [
    "**Ex.2** Remove self and pass abc variable and print the text ?"
   ]
  },
  {
   "cell_type": "code",
   "execution_count": null,
   "id": "381c8472",
   "metadata": {},
   "outputs": [],
   "source": []
  }
 ],
 "metadata": {
  "kernelspec": {
   "display_name": "Python 3 (ipykernel)",
   "language": "python",
   "name": "python3"
  },
  "language_info": {
   "codemirror_mode": {
    "name": "ipython",
    "version": 3
   },
   "file_extension": ".py",
   "mimetype": "text/x-python",
   "name": "python",
   "nbconvert_exporter": "python",
   "pygments_lexer": "ipython3",
   "version": "3.10.9"
  }
 },
 "nbformat": 4,
 "nbformat_minor": 5
}
